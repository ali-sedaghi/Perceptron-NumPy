{
 "cells": [
  {
   "cell_type": "markdown",
   "source": [
    "## Imports"
   ],
   "metadata": {
    "collapsed": false,
    "pycharm": {
     "name": "#%% md\n"
    }
   }
  },
  {
   "cell_type": "code",
   "execution_count": 1,
   "metadata": {
    "collapsed": true,
    "pycharm": {
     "name": "#%%\n"
    }
   },
   "outputs": [],
   "source": [
    "import numpy as np\n",
    "import matplotlib.pyplot as plt\n",
    "np.random.seed(1)"
   ]
  },
  {
   "cell_type": "markdown",
   "source": [
    "## Utility functions"
   ],
   "metadata": {
    "collapsed": false,
    "pycharm": {
     "name": "#%% md\n"
    }
   }
  },
  {
   "cell_type": "code",
   "execution_count": 2,
   "outputs": [],
   "source": [
    "def sigmoid(x):\n",
    "  return 1. / (1 + np.exp(-x))\n",
    "\n",
    "def predict(x, w, b):\n",
    "  return sigmoid(np.dot(w, x) + b)\n",
    "\n",
    "def cce(y_predict, y):\n",
    "  m = y.shape[1]\n",
    "  loss = -1 * (y * np.log(y_predict) + (1 - y) * np.log(1 - y_predict))\n",
    "  cost = (1 / m) * np.sum(loss)\n",
    "  return loss, cost\n",
    "\n",
    "def mse(y_predict, y):\n",
    "  m = y.shape[1]\n",
    "  loss = 1/2 * (y_predict - y)**2\n",
    "  cost = (1 / m) * np.sum(loss)\n",
    "  return loss, cost\n",
    "\n",
    "def compute_accuracy(y_predict, y):\n",
    "  return 100 - np.mean(np.abs(y_predict - y)) * 100"
   ],
   "metadata": {
    "collapsed": false,
    "pycharm": {
     "name": "#%%\n"
    }
   }
  },
  {
   "cell_type": "markdown",
   "source": [
    "## Perceptron (Batch Gradient Descent)"
   ],
   "metadata": {
    "collapsed": false,
    "pycharm": {
     "name": "#%% md\n"
    }
   }
  },
  {
   "cell_type": "code",
   "execution_count": 3,
   "outputs": [],
   "source": [
    "def perceptron(x, y, learning_rate, iterations, iter_log):\n",
    "  # Get dimensional\n",
    "  feat, m = x.shape\n",
    "\n",
    "  # Init parameters\n",
    "  # In 1 layer NN initializing parameters to 0 or random doesn't matter\n",
    "  w = np.random.randn(1, feat) * 0.01\n",
    "  b = np.random.randn() * 0.01\n",
    "  costs = []\n",
    "  accuracies = []\n",
    "\n",
    "  # Batch Gradient Descent\n",
    "  for i in range(iterations):\n",
    "    # Forward propagation\n",
    "    y_predict = predict(x, w, b)\n",
    "\n",
    "    # Cost and Accuracy\n",
    "    difference = y_predict - y\n",
    "    loss, cost = cce(y_predict, y)\n",
    "    costs.append(cost)\n",
    "    accuracy = compute_accuracy(y_predict, y)\n",
    "    accuracies.append(accuracy)\n",
    "\n",
    "    # Backward propagation\n",
    "    dw = difference * x\n",
    "    db = difference\n",
    "    dW = (1 / m) * np.sum(dw, axis=1)\n",
    "    dB = (1 / m) * np.sum(db, axis=1)\n",
    "\n",
    "    # Update parameters\n",
    "    w -= learning_rate * dW\n",
    "    b -= learning_rate * dB\n",
    "\n",
    "    # Print cost and accuracy\n",
    "    if (not iter_log == 0) and (i % iter_log == 0 or i == iterations - 1):\n",
    "      print('Iteration:', i, '  cost:', cost, ' accuracy:', accuracy)\n",
    "\n",
    "  report = {\n",
    "      'costs': costs,\n",
    "      'accuracies': accuracies\n",
    "  }\n",
    "\n",
    "  return w, b, report"
   ],
   "metadata": {
    "collapsed": false,
    "pycharm": {
     "name": "#%%\n"
    }
   }
  },
  {
   "cell_type": "markdown",
   "source": [
    "## Dataset"
   ],
   "metadata": {
    "collapsed": false,
    "pycharm": {
     "name": "#%% md\n"
    }
   }
  },
  {
   "cell_type": "code",
   "execution_count": 4,
   "outputs": [],
   "source": [
    "# Loading and preprocessing data\n",
    "x1, x2, y = np.loadtxt(\"data.txt\", delimiter = \",\", unpack=True)\n",
    "N_TRAIN = y.shape[0]\n",
    "\n",
    "x = np.concatenate((x1.reshape(1, N_TRAIN), x2.reshape(1, N_TRAIN)), axis=0)\n",
    "y_train = y.reshape(1, N_TRAIN)\n",
    "\n",
    "# Normalize and Standardize data\n",
    "x_train = x - np.mean(x, axis=1, keepdims=True)\n",
    "x_train /= np.std(x_train, axis=1, keepdims=True)"
   ],
   "metadata": {
    "collapsed": false,
    "pycharm": {
     "name": "#%%\n"
    }
   }
  },
  {
   "cell_type": "markdown",
   "source": [
    "## Training"
   ],
   "metadata": {
    "collapsed": false,
    "pycharm": {
     "name": "#%% md\n"
    }
   }
  },
  {
   "cell_type": "code",
   "execution_count": 5,
   "outputs": [
    {
     "name": "stdout",
     "output_type": "stream",
     "text": [
      "Iteration: 0   cost: 0.6997386323358503  accuracy: 49.67247287024825\n",
      "Iteration: 100   cost: 0.3293826347925193  accuracy: 74.41222068955283\n",
      "Iteration: 200   cost: 0.28453972086161355  accuracy: 78.54778988687043\n",
      "Iteration: 300   cost: 0.26731348196643545  accuracy: 80.34406593742705\n",
      "Iteration: 400   cost: 0.2583970165500285  accuracy: 81.38075353977132\n",
      "Iteration: 500   cost: 0.25308964091601355  accuracy: 82.06551820535782\n",
      "Iteration: 600   cost: 0.24966168417320977  accuracy: 82.55496850926953\n",
      "Iteration: 700   cost: 0.24732558397132554  accuracy: 82.92337004643952\n",
      "Iteration: 800   cost: 0.2456720480640157  accuracy: 83.21093285250768\n",
      "Iteration: 900   cost: 0.24446820914466416  accuracy: 83.44151884736732\n",
      "Iteration: 1000   cost: 0.24357254123172753  accuracy: 83.6302758630361\n",
      "Iteration: 1100   cost: 0.24289460549305741  accuracy: 83.78733046212385\n",
      "Iteration: 1200   cost: 0.24237428771288042  accuracy: 83.91973575102769\n",
      "Iteration: 1300   cost: 0.2419703447807143  accuracy: 84.03257063327823\n",
      "Iteration: 1400   cost: 0.24165373679471272  accuracy: 84.12959483823816\n",
      "Iteration: 1500   cost: 0.24140356998970958  accuracy: 84.21365709793473\n",
      "Iteration: 1600   cost: 0.24120453557960436  accuracy: 84.2869592138278\n",
      "Iteration: 1700   cost: 0.24104524171779673  accuracy: 84.35123242771864\n",
      "Iteration: 1800   cost: 0.24091709770372696  accuracy: 84.40785850169685\n",
      "Iteration: 1900   cost: 0.24081355013461675  accuracy: 84.45795485379982\n",
      "Iteration: 1999   cost: 0.24073030624996797  accuracy: 84.50201608676159\n",
      "w:  [[-3.16978271  2.92738978]]\n",
      "b:  [1.35139477]\n"
     ]
    }
   ],
   "source": [
    "LEARNING_RATE = 0.1\n",
    "N_EPOCH = 2000\n",
    "REPORT_MOD = 100\n",
    "\n",
    "w, b, report = perceptron(x_train, y_train, LEARNING_RATE, N_EPOCH, REPORT_MOD)\n",
    "y_predict = predict(x_train, w, b)\n",
    "print(\"w: \", w)\n",
    "print(\"b: \", b)"
   ],
   "metadata": {
    "collapsed": false,
    "pycharm": {
     "name": "#%%\n"
    }
   }
  },
  {
   "cell_type": "markdown",
   "source": [
    "## Results"
   ],
   "metadata": {
    "collapsed": false,
    "pycharm": {
     "name": "#%% md\n"
    }
   }
  },
  {
   "cell_type": "code",
   "execution_count": 6,
   "outputs": [
    {
     "data": {
      "text/plain": "<Figure size 640x480 with 1 Axes>",
      "image/png": "[encoded data removed]"
     },
     "metadata": {},
     "output_type": "display_data"
    }
   ],
   "source": [
    "# Cost plot\n",
    "\n",
    "plt.plot(report['costs'])\n",
    "plt.ylabel('cost')\n",
    "plt.xlabel('iterations')\n",
    "plt.show()"
   ],
   "metadata": {
    "collapsed": false,
    "pycharm": {
     "name": "#%%\n"
    }
   }
  },
  {
   "cell_type": "code",
   "execution_count": 7,
   "outputs": [
    {
     "name": "stderr",
     "output_type": "stream",
     "text": [
      "C:\\Users\\alise\\AppData\\Local\\Temp\\ipykernel_8352\\1297355587.py:14: UserWarning: Matplotlib is currently using module://matplotlib_inline.backend_inline, which is a non-GUI backend, so cannot show the figure.\n",
      "  fig.show()\n"
     ]
    },
    {
     "data": {
      "text/plain": "<Figure size 640x480 with 1 Axes>",
      "image/png": "[encoded data removed]"
     },
     "metadata": {},
     "output_type": "display_data"
    }
   ],
   "source": [
    "# Learned function plot\n",
    "\n",
    "fig, ax = plt.subplots()\n",
    "\n",
    "o_points = x_train.T[y_train.T[:, 0] == 1]\n",
    "x_points = x_train.T[y_train.T[:, 0] == 0]\n",
    "\n",
    "ax.plot(o_points[:, 0], o_points[:, 1], 'o')\n",
    "ax.plot(x_points[:, 0], x_points[:, 1], 'x')\n",
    "\n",
    "x =  np.arange(-2, 3)\n",
    "ax.plot(x, ((b + w[0][0] * x) / (-w[0][1])))\n",
    "\n",
    "fig.show()"
   ],
   "metadata": {
    "collapsed": false,
    "pycharm": {
     "name": "#%%\n"
    }
   }
  },
  {
   "cell_type": "code",
   "execution_count": 7,
   "outputs": [],
   "source": [],
   "metadata": {
    "collapsed": false,
    "pycharm": {
     "name": "#%%\n"
    }
   }
  }
 ],
 "metadata": {
  "kernelspec": {
   "display_name": "Python 3",
   "language": "python",
   "name": "python3"
  },
  "language_info": {
   "codemirror_mode": {
    "name": "ipython",
    "version": 2
   },
   "file_extension": ".py",
   "mimetype": "text/x-python",
   "name": "python",
   "nbconvert_exporter": "python",
   "pygments_lexer": "ipython2",
   "version": "2.7.6"
  }
 },
 "nbformat": 4,
 "nbformat_minor": 0
}